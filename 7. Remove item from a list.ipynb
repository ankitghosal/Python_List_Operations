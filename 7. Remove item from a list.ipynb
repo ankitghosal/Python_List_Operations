{
 "cells": [
  {
   "cell_type": "markdown",
   "id": "02a8b032-506b-423c-a173-0423aaf386a2",
   "metadata": {},
   "source": [
    "# **7. Remove item from a list**"
   ]
  },
  {
   "cell_type": "markdown",
   "id": "e04fd830-38a9-4791-9ac6-b17f16a01de3",
   "metadata": {},
   "source": [
    "### Using remove()"
   ]
  },
  {
   "cell_type": "code",
   "execution_count": 2,
   "id": "c0873552-0a28-4743-8cb9-b9a044778fa0",
   "metadata": {},
   "outputs": [
    {
     "name": "stdout",
     "output_type": "stream",
     "text": [
      "[10, 20, 40, 50, 60]\n"
     ]
    }
   ],
   "source": [
    "a = [10,20,30,40,50,60]\n",
    "a.remove(30)\n",
    "print(a)"
   ]
  },
  {
   "cell_type": "markdown",
   "id": "f4e126ea-560c-4778-b175-5cc2c6993197",
   "metadata": {},
   "source": [
    "### Using pop()\n",
    "####\n",
    "* If index not specified then removes the last elem\n",
    "* It returns Removed item. Other methods don't return it."
   ]
  },
  {
   "cell_type": "code",
   "execution_count": 3,
   "id": "4d71c2ca-db19-47ec-9f22-2651a0db3a0e",
   "metadata": {},
   "outputs": [
    {
     "name": "stdout",
     "output_type": "stream",
     "text": [
      "[10, 30, 40, 50, 60]\n",
      "Removed item:  20\n"
     ]
    }
   ],
   "source": [
    "a = [10,20,30,40,50,60]\n",
    "# remove elem at index 1 & return it's value in val\n",
    "val = a.pop(1)\n",
    "print(a)\n",
    "print(\"Removed item: \", val)"
   ]
  },
  {
   "cell_type": "markdown",
   "id": "6d81a207-0cfb-47b4-8709-cdef8e29cb6c",
   "metadata": {},
   "source": [
    "### Using del()\n",
    "#### * index specific or a range"
   ]
  },
  {
   "cell_type": "code",
   "execution_count": 5,
   "id": "de66c539-fb02-4cdd-828b-db7081142312",
   "metadata": {},
   "outputs": [
    {
     "name": "stdout",
     "output_type": "stream",
     "text": [
      "[10, 20, 40, 50, 60]\n",
      "[10, 50, 60]\n"
     ]
    }
   ],
   "source": [
    "a = [10,20,30,40,50,60]\n",
    "# remove elem at index x\n",
    "del a[2]\n",
    "print(a)\n",
    "\n",
    "b = [10,20,30,40,50,60]\n",
    "# range(20 to 40)\n",
    "del b[1:4]\n",
    "print(b)"
   ]
  },
  {
   "cell_type": "code",
   "execution_count": 7,
   "id": "ff25ecc0-70dd-4371-850e-a6380a53cd76",
   "metadata": {},
   "outputs": [
    {
     "name": "stdout",
     "output_type": "stream",
     "text": [
      "List after using del:  []\n"
     ]
    }
   ],
   "source": [
    "# To delete entire list\n",
    "a = [1,2,3,4,5]\n",
    "del a[:]\n",
    "print(\"List after using del: \",a)"
   ]
  },
  {
   "cell_type": "markdown",
   "id": "d5b30259-f6a9-4860-bfc3-32bd9509c0ea",
   "metadata": {},
   "source": [
    "### Using clear()  - removes ALL elements"
   ]
  },
  {
   "cell_type": "code",
   "execution_count": 8,
   "id": "43958d13-1670-47cf-bc7e-f9e99ff4d519",
   "metadata": {},
   "outputs": [
    {
     "name": "stdout",
     "output_type": "stream",
     "text": [
      "[]\n"
     ]
    }
   ],
   "source": [
    "a = [10, 20, 30, 40]\n",
    "# empty a list entirely\n",
    "a.clear()\n",
    "print(a)"
   ]
  },
  {
   "cell_type": "code",
   "execution_count": null,
   "id": "cc3b86d9-c092-4e4f-8843-0cb0f2e81e89",
   "metadata": {},
   "outputs": [],
   "source": []
  },
  {
   "cell_type": "code",
   "execution_count": null,
   "id": "5f9ee14f-c143-4d93-8046-8e2f275455a6",
   "metadata": {},
   "outputs": [],
   "source": []
  }
 ],
 "metadata": {
  "kernelspec": {
   "display_name": "Python 3 (ipykernel)",
   "language": "python",
   "name": "python3"
  },
  "language_info": {
   "codemirror_mode": {
    "name": "ipython",
    "version": 3
   },
   "file_extension": ".py",
   "mimetype": "text/x-python",
   "name": "python",
   "nbconvert_exporter": "python",
   "pygments_lexer": "ipython3",
   "version": "3.12.7"
  }
 },
 "nbformat": 4,
 "nbformat_minor": 5
}
