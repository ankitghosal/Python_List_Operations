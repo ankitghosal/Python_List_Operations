{
 "cells": [
  {
   "cell_type": "markdown",
   "id": "b1abc081-de50-41c4-910e-9a7ec368c9fa",
   "metadata": {},
   "source": [
    "# **2. Change List Item**"
   ]
  },
  {
   "cell_type": "markdown",
   "id": "09c93b85-1002-417f-bcf9-6d51e17ee640",
   "metadata": {},
   "source": [
    "### Using Indexing"
   ]
  },
  {
   "cell_type": "code",
   "execution_count": 1,
   "id": "15185fe1-84ff-46d4-b840-028f4b2e4efc",
   "metadata": {},
   "outputs": [
    {
     "name": "stdout",
     "output_type": "stream",
     "text": [
      "[10, 25, 30, 40, 50]\n"
     ]
    }
   ],
   "source": [
    "a = [10,20,30,40,50]\n",
    "# Change the item at index 1\n",
    "a[1] = 25\n",
    "print(a)"
   ]
  },
  {
   "cell_type": "markdown",
   "id": "7c99436c-ea18-4817-baa3-4ae60d4c5633",
   "metadata": {},
   "source": [
    "### Using Slicing for Multipe items "
   ]
  },
  {
   "cell_type": "code",
   "execution_count": 3,
   "id": "7bc1edfe-36f5-444e-951d-cc36390a9eda",
   "metadata": {},
   "outputs": [
    {
     "name": "stdout",
     "output_type": "stream",
     "text": [
      "[10, 21, 31, 40, 50]\n"
     ]
    }
   ],
   "source": [
    "a = [10,20,30,40,50]\n",
    "# replace items at indices 1 and 2\n",
    "a[1:3] = [21,31]\n",
    "print(a)"
   ]
  },
  {
   "cell_type": "markdown",
   "id": "79a37282-dad3-4868-b6b3-8fd5ba6fafd2",
   "metadata": {},
   "source": [
    "### Using List Comprehension"
   ]
  },
  {
   "cell_type": "code",
   "execution_count": 6,
   "id": "412a6475-72dc-436c-aae7-bccdbad7fbe9",
   "metadata": {},
   "outputs": [
    {
     "name": "stdout",
     "output_type": "stream",
     "text": [
      "[20, 15, 40, 25, 60, 35, 80, 45]\n"
     ]
    }
   ],
   "source": [
    "a = [10,15,20,25,30,35,40,45]\n",
    "# Doubling even numbers\n",
    "b = [x*2 if x%2==0 else x for x in a]\n",
    "print(b)"
   ]
  },
  {
   "cell_type": "markdown",
   "id": "2fe3c0c3-f1e7-4ca8-9f1f-24c21cf18cd3",
   "metadata": {},
   "source": [
    "### Using Loop with enumerate()"
   ]
  },
  {
   "cell_type": "code",
   "execution_count": 9,
   "id": "6b3a2f88-f438-464b-bca1-6b083f2d1c06",
   "metadata": {},
   "outputs": [
    {
     "name": "stdout",
     "output_type": "stream",
     "text": [
      "[10, 20, 20, 30]\n"
     ]
    }
   ],
   "source": [
    "a = [10,15,20,25]\n",
    "# Adding 5 to odd numbers\n",
    "for item, x in enumerate(a):  # x in enumerate()\n",
    "    if x%2 !=0:\n",
    "        a[item] += 5\n",
    "print(a)\n"
   ]
  },
  {
   "cell_type": "markdown",
   "id": "8d9e05e5-552a-4c57-b019-353b0a034b62",
   "metadata": {},
   "source": [
    "### Using map() or lambda func"
   ]
  },
  {
   "cell_type": "code",
   "execution_count": 10,
   "id": "10f332b9-4e0b-4c08-9370-27dac9251f4f",
   "metadata": {},
   "outputs": [
    {
     "name": "stdout",
     "output_type": "stream",
     "text": [
      "[11, 21, 31]\n"
     ]
    }
   ],
   "source": [
    "a = [10,20,30]\n",
    "# Incrementing value by 1\n",
    "a = list(map(lambda x: x+1, a))\n",
    "print(a)\n"
   ]
  },
  {
   "cell_type": "code",
   "execution_count": null,
   "id": "5bed544e-1370-4a16-9bab-6edb246c875f",
   "metadata": {},
   "outputs": [],
   "source": []
  },
  {
   "cell_type": "code",
   "execution_count": null,
   "id": "9371c49a-d3ce-403e-8070-defca21ff6b8",
   "metadata": {},
   "outputs": [],
   "source": []
  }
 ],
 "metadata": {
  "kernelspec": {
   "display_name": "Python 3 (ipykernel)",
   "language": "python",
   "name": "python3"
  },
  "language_info": {
   "codemirror_mode": {
    "name": "ipython",
    "version": 3
   },
   "file_extension": ".py",
   "mimetype": "text/x-python",
   "name": "python",
   "nbconvert_exporter": "python",
   "pygments_lexer": "ipython3",
   "version": "3.12.7"
  }
 },
 "nbformat": 4,
 "nbformat_minor": 5
}
