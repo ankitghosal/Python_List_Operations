{
 "cells": [
  {
   "cell_type": "code",
   "execution_count": 1,
   "id": "ecbee1e5-c4e2-47a6-b37d-b68e4f5948e0",
   "metadata": {},
   "outputs": [
    {
     "name": "stdout",
     "output_type": "stream",
     "text": [
      "10\n",
      "40\n"
     ]
    }
   ],
   "source": [
    "a = [10,20,30,40]\n",
    "print(a[0])\n",
    "print(a[-1])"
   ]
  },
  {
   "cell_type": "markdown",
   "id": "f0c9bdce-7655-4a00-b337-3d0f9d626e80",
   "metadata": {},
   "source": [
    "### Using List Comprehension"
   ]
  },
  {
   "cell_type": "code",
   "execution_count": 2,
   "id": "abc2dc43-1df3-4c00-a7e7-dae9ea8b6e82",
   "metadata": {},
   "outputs": [
    {
     "name": "stdout",
     "output_type": "stream",
     "text": [
      "[40, 50, 60, 70]\n"
     ]
    }
   ],
   "source": [
    "a = [10,20,30,40,50, 60,70]\n",
    "# if I habe to print items more than 30\n",
    "b = [item for item in a if item>30]   #item for item in a\n",
    "print(b)"
   ]
  },
  {
   "cell_type": "markdown",
   "id": "2bb55d3f-a733-456a-a09b-e8b8cffcfd98",
   "metadata": {},
   "source": [
    "### Using List Slicing\n"
   ]
  },
  {
   "cell_type": "code",
   "execution_count": 3,
   "id": "c313f416-b081-47e0-9a90-5e00f8bbafa9",
   "metadata": {},
   "outputs": [
    {
     "name": "stdout",
     "output_type": "stream",
     "text": [
      "[20, 30, 40]\n"
     ]
    }
   ],
   "source": [
    "a = [10,20,30,40,50]\n",
    "# get a slice of list from 1 to 3\n",
    "print(a[1:4])"
   ]
  },
  {
   "cell_type": "markdown",
   "id": "fc173af0-ee90-4d7f-8e89-1d7b4c95ba1f",
   "metadata": {},
   "source": [
    "### Using Loop"
   ]
  },
  {
   "cell_type": "code",
   "execution_count": 4,
   "id": "2f159bb0-8e20-4410-996b-44607b32e4a8",
   "metadata": {},
   "outputs": [
    {
     "name": "stdout",
     "output_type": "stream",
     "text": [
      "10\n",
      "20\n",
      "30\n",
      "40\n",
      "50\n"
     ]
    }
   ],
   "source": [
    "a = [10,20,30,40,50]\n",
    "# loop through the list & print each items\n",
    "for item in a:\n",
    "    print(item)"
   ]
  },
  {
   "cell_type": "code",
   "execution_count": null,
   "id": "fd22176b-dcb6-4323-b68f-15b2972b4bac",
   "metadata": {},
   "outputs": [],
   "source": []
  },
  {
   "cell_type": "code",
   "execution_count": null,
   "id": "dfa6aaaf-f396-4ee2-aa92-f094ebb591c4",
   "metadata": {},
   "outputs": [],
   "source": []
  },
  {
   "cell_type": "code",
   "execution_count": null,
   "id": "49d2a64e-21db-41b8-9d80-e6df77aed35b",
   "metadata": {},
   "outputs": [],
   "source": []
  }
 ],
 "metadata": {
  "kernelspec": {
   "display_name": "Python 3 (ipykernel)",
   "language": "python",
   "name": "python3"
  },
  "language_info": {
   "codemirror_mode": {
    "name": "ipython",
    "version": 3
   },
   "file_extension": ".py",
   "mimetype": "text/x-python",
   "name": "python",
   "nbconvert_exporter": "python",
   "pygments_lexer": "ipython3",
   "version": "3.12.7"
  }
 },
 "nbformat": 4,
 "nbformat_minor": 5
}
