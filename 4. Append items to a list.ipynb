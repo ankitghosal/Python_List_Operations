{
 "cells": [
  {
   "cell_type": "code",
   "execution_count": 2,
   "id": "47f35d19-5b42-4da9-98a2-e2d129fe0877",
   "metadata": {},
   "outputs": [
    {
     "name": "stdout",
     "output_type": "stream",
     "text": [
      "[2, 5, 6, 7, 8]\n"
     ]
    }
   ],
   "source": [
    "a = [2,5,6,7]\n",
    "# use append() to add the element to the end of the list\n",
    "a.append(8)\n",
    "print(a)"
   ]
  },
  {
   "cell_type": "markdown",
   "id": "448fcec9-8c29-46b6-8753-8874e74779da",
   "metadata": {},
   "source": [
    "#### append() allows eleents of different types (int, string, list, object)"
   ]
  },
  {
   "cell_type": "code",
   "execution_count": 5,
   "id": "ff34bd8d-cdc3-4af9-9491-f1bfc5cd2252",
   "metadata": {},
   "outputs": [
    {
     "name": "stdout",
     "output_type": "stream",
     "text": [
      "[1, 'hello', 3.14, True]\n"
     ]
    }
   ],
   "source": [
    "a = [1, \"hello\", 3.14]\n",
    "a.append(True)\n",
    "print(a)"
   ]
  },
  {
   "cell_type": "markdown",
   "id": "de7b5f2d-c6cb-4215-8b0c-b67c3e801d87",
   "metadata": {},
   "source": [
    "### Append List to a List"
   ]
  },
  {
   "cell_type": "code",
   "execution_count": 7,
   "id": "1b667d5f-32b6-4daf-bb50-b223606f5b40",
   "metadata": {},
   "outputs": [
    {
     "name": "stdout",
     "output_type": "stream",
     "text": [
      "[1, 2, 3, [4, 5, 6, 7, 8]]\n"
     ]
    }
   ],
   "source": [
    "a = [1,2,3]\n",
    "a.append([4,5,6,7,8])\n",
    "print(a)   # appnd method adds the list as a single elem to the end of the list, resulting in a nested list."
   ]
  },
  {
   "cell_type": "markdown",
   "id": "a2248446-adca-42c6-a6fc-080bbfa0501c",
   "metadata": {},
   "source": [
    "#### \n",
    "* append() only can add one elem at a time. (Only at the END)\n",
    "* append() method has time complexity of O(1) (constant time). As it adds elem to the end of the lsit without requirin any resizing or reordering.\n",
    "* appnd method adds a new list as a single elem to the end of the list, resulting in a nested list.\n",
    "* To merge the contents of another list without nesting we use extend() method."
   ]
  },
  {
   "cell_type": "code",
   "execution_count": null,
   "id": "dd75ef72-e334-4b5b-b5d0-02e2d68ba720",
   "metadata": {},
   "outputs": [],
   "source": []
  },
  {
   "cell_type": "code",
   "execution_count": null,
   "id": "919b7fc6-024c-49c5-85c5-60b395b50a0f",
   "metadata": {},
   "outputs": [],
   "source": []
  },
  {
   "cell_type": "code",
   "execution_count": null,
   "id": "77ae3207-e382-4710-bc2d-5a45aba0dc96",
   "metadata": {},
   "outputs": [],
   "source": []
  },
  {
   "cell_type": "code",
   "execution_count": null,
   "id": "8fbcf00c-12c5-48d2-9eb2-f6c5f1a8e099",
   "metadata": {},
   "outputs": [],
   "source": []
  },
  {
   "cell_type": "code",
   "execution_count": null,
   "id": "b4e4f935-75fa-4bec-a40a-33dafa890bbc",
   "metadata": {},
   "outputs": [],
   "source": []
  }
 ],
 "metadata": {
  "kernelspec": {
   "display_name": "Python 3 (ipykernel)",
   "language": "python",
   "name": "python3"
  },
  "language_info": {
   "codemirror_mode": {
    "name": "ipython",
    "version": 3
   },
   "file_extension": ".py",
   "mimetype": "text/x-python",
   "name": "python",
   "nbconvert_exporter": "python",
   "pygments_lexer": "ipython3",
   "version": "3.12.7"
  }
 },
 "nbformat": 4,
 "nbformat_minor": 5
}
