{
 "cells": [
  {
   "cell_type": "markdown",
   "id": "6e8316fb-66d7-46f3-a425-fe601386754b",
   "metadata": {},
   "source": [
    "####            \n",
    "* insert() method inserts an item at a specific index in a list.\n",
    "* USE: list_name.insert(index, element)\n",
    "* It only updates the current list"
   ]
  },
  {
   "cell_type": "code",
   "execution_count": 1,
   "id": "34edb50e-15a5-46f9-b7ec-d7453f36d9d2",
   "metadata": {},
   "outputs": [
    {
     "name": "stdout",
     "output_type": "stream",
     "text": [
      "['banana', 'apple', 'cherry', 'grapes']\n",
      "[43, 45, 45, 99, 76]\n"
     ]
    }
   ],
   "source": [
    "fruit = [\"banana\", \"cherry\", \"grapes\"]\n",
    "fruit.insert(1, \"apple\")\n",
    "print(fruit)\n",
    "\n",
    "score = [43,45,99,76]\n",
    "score.insert(2, 45)\n",
    "print(score)"
   ]
  },
  {
   "cell_type": "markdown",
   "id": "8f139569-947e-44d2-978c-42be15233413",
   "metadata": {},
   "source": [
    "#### * string doesn't have attribute insert(). gives Error"
   ]
  },
  {
   "cell_type": "code",
   "execution_count": 2,
   "id": "26cac3bb-b472-48d5-9f00-0c9a3e38d6d1",
   "metadata": {},
   "outputs": [
    {
     "ename": "AttributeError",
     "evalue": "'str' object has no attribute 'insert'",
     "output_type": "error",
     "traceback": [
      "\u001b[1;31m---------------------------------------------------------------------------\u001b[0m",
      "\u001b[1;31mAttributeError\u001b[0m                            Traceback (most recent call last)",
      "Cell \u001b[1;32mIn[2], line 3\u001b[0m\n\u001b[0;32m      1\u001b[0m \u001b[38;5;66;03m# attribute Error\u001b[39;00m\n\u001b[0;32m      2\u001b[0m string \u001b[38;5;241m=\u001b[39m \u001b[38;5;124m\"\u001b[39m\u001b[38;5;124m1234567\u001b[39m\u001b[38;5;124m\"\u001b[39m\n\u001b[1;32m----> 3\u001b[0m string\u001b[38;5;241m.\u001b[39minsert(\u001b[38;5;241m5\u001b[39m, \u001b[38;5;241m10\u001b[39m)\n\u001b[0;32m      4\u001b[0m \u001b[38;5;28mprint\u001b[39m(string)\n",
      "\u001b[1;31mAttributeError\u001b[0m: 'str' object has no attribute 'insert'"
     ]
    }
   ],
   "source": [
    "# attribute Error\n",
    "string = \"1234567\"\n",
    "string.insert(5, 10)\n",
    "print(string)"
   ]
  },
  {
   "cell_type": "code",
   "execution_count": 3,
   "id": "ecd7607b-54e4-4e2b-ab67-b95587a5c53e",
   "metadata": {},
   "outputs": [
    {
     "name": "stdout",
     "output_type": "stream",
     "text": [
      "[1, 2, (4, 5, 6), 3, 4, 5, 6]\n"
     ]
    }
   ],
   "source": [
    "list1 = [1,2,3,4,5,6]\n",
    "num_tuple = (4,5,6)\n",
    "# insert tuple in 2nd index\n",
    "list1.insert(2, num_tuple)\n",
    "print(list1)"
   ]
  },
  {
   "cell_type": "code",
   "execution_count": 5,
   "id": "029a695e-f00c-4869-8ba1-546c40493363",
   "metadata": {},
   "outputs": [
    {
     "name": "stdout",
     "output_type": "stream",
     "text": [
      "['Orange', 'banana', 'cherry', 'grapes']\n"
     ]
    }
   ],
   "source": [
    "# Adding at the beginning:\n",
    "fruit = [\"banana\", \"cherry\", \"grapes\"]\n",
    "fruit.insert(0, \"Orange\")\n",
    "print(fruit)"
   ]
  },
  {
   "cell_type": "markdown",
   "id": "c03bbad9-f54b-4fca-b38e-c2d446ae67e2",
   "metadata": {},
   "source": [
    "### Inserting at the end"
   ]
  },
  {
   "cell_type": "code",
   "execution_count": 7,
   "id": "f86e7e28-6271-4e4b-aa4a-01cca7d8691e",
   "metadata": {},
   "outputs": [
    {
     "name": "stdout",
     "output_type": "stream",
     "text": [
      "['banana', 'cherry', 'Orange', 'grapes']\n",
      "['banana', 'cherry', 'Orange', 'grapes', 'Orange 2']\n"
     ]
    }
   ],
   "source": [
    "fruit = [\"banana\", \"cherry\", \"grapes\"]\n",
    "fruit.insert(-1, \"Orange\")\n",
    "print(fruit)\n",
    "fruit.append(\"Orange 2\")\n",
    "print(fruit)"
   ]
  },
  {
   "cell_type": "markdown",
   "id": "1a87747f-00c0-46b3-9a69-e204870cc476",
   "metadata": {},
   "source": [
    "### inserting dictionary to a list"
   ]
  },
  {
   "cell_type": "code",
   "execution_count": 9,
   "id": "f778674a-442d-4578-8dec-c55b5d2bcb57",
   "metadata": {},
   "outputs": [
    {
     "name": "stdout",
     "output_type": "stream",
     "text": [
      "[{'name': 'Alice', 'age': 30}, {'name': 'Bob', 'age': 25}, {'name': 'Charlie', 'age': 40}]\n"
     ]
    }
   ],
   "source": [
    "my_list = [{'name': 'Alice', 'age': 30}, {'name':'Bob','age': 25}]\n",
    "new_dict= {'name': 'Charlie', 'age': 40}\n",
    "my_list.append(new_dict)\n",
    "print(my_list)"
   ]
  },
  {
   "cell_type": "code",
   "execution_count": null,
   "id": "7126becd-d5e7-47c0-a30c-4ac8b0b5c831",
   "metadata": {},
   "outputs": [],
   "source": []
  },
  {
   "cell_type": "code",
   "execution_count": null,
   "id": "86293c90-4f75-43bb-9f12-c929830b9ded",
   "metadata": {},
   "outputs": [],
   "source": []
  },
  {
   "cell_type": "code",
   "execution_count": null,
   "id": "47593895-1c90-43ae-8480-55b56d66aa48",
   "metadata": {},
   "outputs": [],
   "source": []
  }
 ],
 "metadata": {
  "kernelspec": {
   "display_name": "Python 3 (ipykernel)",
   "language": "python",
   "name": "python3"
  },
  "language_info": {
   "codemirror_mode": {
    "name": "ipython",
    "version": 3
   },
   "file_extension": ".py",
   "mimetype": "text/x-python",
   "name": "python",
   "nbconvert_exporter": "python",
   "pygments_lexer": "ipython3",
   "version": "3.12.7"
  }
 },
 "nbformat": 4,
 "nbformat_minor": 5
}
