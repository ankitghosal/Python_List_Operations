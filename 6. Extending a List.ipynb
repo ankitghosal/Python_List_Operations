{
 "cells": [
  {
   "cell_type": "markdown",
   "id": "c2f5ee6e-5e1c-4aaa-8c75-b6b56e298cf9",
   "metadata": {},
   "source": [
    "# **6. Extending a List**"
   ]
  },
  {
   "cell_type": "markdown",
   "id": "f669a208-afdf-443a-b6d5-03a15b80265b",
   "metadata": {},
   "source": [
    "#### \n",
    "* extend() adds multiple iterables (list, tuple or set)\n",
    "* directly modifies the original list by adding at the end\n",
    "* It avoids creatinga new list"
   ]
  },
  {
   "cell_type": "code",
   "execution_count": null,
   "id": "2272ba84-c3d7-4b91-9fe7-40101139c2bf",
   "metadata": {},
   "outputs": [],
   "source": [
    "a = [1,2,3]\n",
    "b = [4,5,6]\n",
    "a.extend(b)\n",
    "print(a)"
   ]
  },
  {
   "cell_type": "markdown",
   "id": "915c3c63-755f-4269-bdad-a60e7564d208",
   "metadata": {},
   "source": [
    "### Using += Operator"
   ]
  },
  {
   "cell_type": "code",
   "execution_count": 2,
   "id": "afa0da86-cd80-4a59-abdb-619c2a9753cd",
   "metadata": {},
   "outputs": [
    {
     "name": "stdout",
     "output_type": "stream",
     "text": [
      "[1, 2, 3, 4, 5, 6]\n"
     ]
    }
   ],
   "source": [
    "a = [1,2,3]\n",
    "b = [4,5,6]\n",
    "a += b\n",
    "print(a)"
   ]
  },
  {
   "cell_type": "markdown",
   "id": "e124a5e8-5aa6-49f8-bdea-b373e5f052f4",
   "metadata": {},
   "source": [
    "### Using Slicing"
   ]
  },
  {
   "cell_type": "code",
   "execution_count": 4,
   "id": "80b51690-c9a7-407c-9c8c-d9fd5b04e311",
   "metadata": {},
   "outputs": [
    {
     "name": "stdout",
     "output_type": "stream",
     "text": [
      "[1, 2, 3, 4, 5, 6]\n"
     ]
    }
   ],
   "source": [
    "a = [1,2,3]\n",
    "b = [4,5,6]\n",
    "# Extends list 'a' using slicing\n",
    "a[len(a):] = b\n",
    "print(a)"
   ]
  },
  {
   "cell_type": "markdown",
   "id": "a786108d-e02f-43b4-b423-f8980f87b206",
   "metadata": {},
   "source": [
    "#### \n",
    "* [len(a):] - means slicing at the end of the list.\n",
    "* a[:0] - at the beginning"
   ]
  },
  {
   "cell_type": "markdown",
   "id": "7bd5e82e-0245-4722-b6d1-736afe4d43eb",
   "metadata": {},
   "source": [
    "### Using itertools.chain()\n",
    "#### * adds all the iterables andreturns one list."
   ]
  },
  {
   "cell_type": "code",
   "execution_count": 7,
   "id": "31ef3ec7-ccbe-4583-88b1-2e845a5c9a7a",
   "metadata": {},
   "outputs": [
    {
     "name": "stdout",
     "output_type": "stream",
     "text": [
      "[1, 2, 3, 4, 5, 6]\n"
     ]
    }
   ],
   "source": [
    "from itertools import chain\n",
    "a = [1,2,3]\n",
    "b = [4,5,6]\n",
    "a.extend(chain(b))\n",
    "print(a)"
   ]
  },
  {
   "cell_type": "code",
   "execution_count": 8,
   "id": "954c0586-a693-4ced-938e-a147a21dd2dd",
   "metadata": {},
   "outputs": [
    {
     "name": "stdout",
     "output_type": "stream",
     "text": [
      "['A', 'B', 'C', 'D', 'E', 'F', 'G', 'H', 'I', 'J', 'K', 'L']\n",
      "after joining:  ABCDEFGHIJKL\n"
     ]
    }
   ],
   "source": [
    "from itertools import chain\n",
    "res = list(chain('ABC', 'DEF', 'GHI', 'JKL'))\n",
    "print(res)  # eacg string is considered a seperate elem/iterable\n",
    "\n",
    "# to jon them all\n",
    "b = ''.join(res)\n",
    "print(\"after joining: \", b)"
   ]
  },
  {
   "cell_type": "code",
   "execution_count": 10,
   "id": "318b32b5-5d59-4b5f-a8e1-595ba19b0b55",
   "metadata": {},
   "outputs": [
    {
     "name": "stdout",
     "output_type": "stream",
     "text": [
      "before joining:  ['G', 'e', 'e', 'k', 's', 'f', 'o', 'r', 'G', 'e', 'e', 'k', 's']\n",
      "after joining:  GeeksforGeeks\n"
     ]
    }
   ],
   "source": [
    "from itertools import chain\n",
    "st1 = \"Geeks\"\n",
    "st2 = \"for\"\n",
    "st3 = \"Geeks\"\n",
    "\n",
    "res = list(chain(st1, st2, st3))\n",
    "print(\"before joining: \", res)\n",
    "\n",
    "ans = ''.join(res)\n",
    "print(\"after joining: \", ans)"
   ]
  },
  {
   "cell_type": "code",
   "execution_count": null,
   "id": "9111dc84-a697-4ea6-98a8-03b3af3946d3",
   "metadata": {},
   "outputs": [],
   "source": []
  },
  {
   "cell_type": "code",
   "execution_count": null,
   "id": "79649871-91d0-4cf2-94ff-d1ad9931fa35",
   "metadata": {},
   "outputs": [],
   "source": []
  },
  {
   "cell_type": "code",
   "execution_count": null,
   "id": "6833715d-ab69-4b09-9706-68e0869cb248",
   "metadata": {},
   "outputs": [],
   "source": []
  }
 ],
 "metadata": {
  "kernelspec": {
   "display_name": "Python 3 (ipykernel)",
   "language": "python",
   "name": "python3"
  },
  "language_info": {
   "codemirror_mode": {
    "name": "ipython",
    "version": 3
   },
   "file_extension": ".py",
   "mimetype": "text/x-python",
   "name": "python",
   "nbconvert_exporter": "python",
   "pygments_lexer": "ipython3",
   "version": "3.12.7"
  }
 },
 "nbformat": 4,
 "nbformat_minor": 5
}
