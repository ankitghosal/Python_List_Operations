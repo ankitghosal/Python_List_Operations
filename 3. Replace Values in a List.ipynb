{
 "cells": [
  {
   "cell_type": "code",
   "execution_count": 2,
   "id": "20353941-75ff-4074-afe2-e602aae906f1",
   "metadata": {},
   "outputs": [
    {
     "name": "stdout",
     "output_type": "stream",
     "text": [
      "[10, 20, 99, 40, 50]\n"
     ]
    }
   ],
   "source": [
    "a = [10,20,30,40,50]\n",
    "# replacing 30 to 99\n",
    "a[2] = 99\n",
    "print(a)"
   ]
  },
  {
   "cell_type": "markdown",
   "id": "ea8bc67d-08d5-47f1-b854-dbf4d8589c28",
   "metadata": {},
   "source": [
    "### Using Lambda Function"
   ]
  },
  {
   "cell_type": "code",
   "execution_count": 3,
   "id": "4240b4e0-31ce-44d7-b963-b590053c7c70",
   "metadata": {},
   "outputs": [
    {
     "name": "stdout",
     "output_type": "stream",
     "text": [
      "[10, 20, 99, 40, 50]\n"
     ]
    }
   ],
   "source": [
    "a = [10,20,30,40,50]\n",
    "# replacing 30 to 99\n",
    "a = list(map(lambda x: 99 if x==30 else x, a))\n",
    "print(a)\n",
    "         "
   ]
  },
  {
   "cell_type": "markdown",
   "id": "f9215a88-3f48-40a4-a54a-59dc5f98e62a",
   "metadata": {},
   "source": [
    "### Using For Loop"
   ]
  },
  {
   "cell_type": "code",
   "execution_count": 5,
   "id": "ea261a94-e609-4c18-9ca6-fb1849e28e3a",
   "metadata": {},
   "outputs": [
    {
     "name": "stdout",
     "output_type": "stream",
     "text": [
      "[10, 20, 99, 40, 50]\n"
     ]
    }
   ],
   "source": [
    "a = [10,20,30,40,50]\n",
    "# replacing 30 to 99\n",
    "for i in range(len(a)):\n",
    "    if a[i] == 30:\n",
    "        a[i] = 99\n",
    "print(a)"
   ]
  },
  {
   "cell_type": "markdown",
   "id": "5dc51d51-73bb-4ae7-abe5-769bb8fa2f6a",
   "metadata": {},
   "source": [
    "### Using While Loop"
   ]
  },
  {
   "cell_type": "code",
   "execution_count": 6,
   "id": "56236620-2f89-4ba7-9d57-b6991a40bd4a",
   "metadata": {},
   "outputs": [
    {
     "name": "stdout",
     "output_type": "stream",
     "text": [
      "[10, 20, 99, 40, 50]\n"
     ]
    }
   ],
   "source": [
    "a = [10,20,30,40,50]\n",
    "# replacing 30 to 99\n",
    "i = 0\n",
    "while i<len(a):\n",
    "    if a[i] == 30:\n",
    "        a[i] = 99\n",
    "    i+=1\n",
    "print(a)"
   ]
  },
  {
   "cell_type": "code",
   "execution_count": null,
   "id": "a186085c-5f83-4082-a297-6f53f6697629",
   "metadata": {},
   "outputs": [],
   "source": [
    "a = [10,20,30,40,50]\n",
    "# replacing 30 to 99\n",
    "i = 0\n",
    "while i<len(a):\n",
    "    if a[i] == 30:\n",
    "        a[i] = 99\n",
    "    i+=1\n",
    "print(a)"
   ]
  },
  {
   "cell_type": "code",
   "execution_count": null,
   "id": "123bac98-32c0-4554-a0cf-91e8ae9a8113",
   "metadata": {},
   "outputs": [],
   "source": []
  },
  {
   "cell_type": "code",
   "execution_count": null,
   "id": "226dbb18-65ae-4ad0-a482-c7d683978722",
   "metadata": {},
   "outputs": [],
   "source": []
  }
 ],
 "metadata": {
  "kernelspec": {
   "display_name": "Python 3 (ipykernel)",
   "language": "python",
   "name": "python3"
  },
  "language_info": {
   "codemirror_mode": {
    "name": "ipython",
    "version": 3
   },
   "file_extension": ".py",
   "mimetype": "text/x-python",
   "name": "python",
   "nbconvert_exporter": "python",
   "pygments_lexer": "ipython3",
   "version": "3.12.7"
  }
 },
 "nbformat": 4,
 "nbformat_minor": 5
}
